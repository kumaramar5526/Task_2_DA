{
 "cells": [
  {
   "cell_type": "markdown",
   "id": "6fb58986",
   "metadata": {},
   "source": [
    "# EDA Notebook for Stores.csv\n",
    "This notebook reproduces the EDA. Run cells to inspect outputs."
   ]
  },
  {
   "cell_type": "code",
   "execution_count": null,
   "id": "b5f667e2",
   "metadata": {},
   "outputs": [],
   "source": [
    "import pandas as pd\n",
    "import numpy as np\n",
    "import matplotlib.pyplot as plt\n",
    "import seaborn as sns\n",
    "from pandas.plotting import scatter_matrix\n",
    "\n",
    "INPUT = 'Stores.csv'\n",
    "df = pd.read_csv(INPUT)\n",
    "df.head()"
   ]
  },
  {
   "cell_type": "code",
   "execution_count": null,
   "id": "90715c2e",
   "metadata": {},
   "outputs": [],
   "source": [
    "print('Shape:', df.shape)\n",
    "print('\\nDtypes:')\n",
    "print(df.dtypes)\n",
    "print('\\nMissing values:')\n",
    "print(df.isnull().sum())\n",
    "print('\\nDuplicate rows:', df.duplicated().sum())"
   ]
  },
  {
   "cell_type": "code",
   "execution_count": null,
   "id": "6d498c4c",
   "metadata": {},
   "outputs": [],
   "source": [
    "num_cols = df.select_dtypes(include=[np.number]).columns.tolist()\n",
    "cat_cols = df.select_dtypes(exclude=[np.number]).columns.tolist()\n",
    "print('Numeric cols:', num_cols)\n",
    "print('Categorical cols:', cat_cols)"
   ]
  },
  {
   "cell_type": "code",
   "execution_count": null,
   "id": "68a8dfaa",
   "metadata": {},
   "outputs": [],
   "source": [
    "# Numeric description\n",
    "if num_cols:\n",
    "    display(df[num_cols].describe().T)\n",
    "# Categorical description\n",
    "if cat_cols:\n",
    "    display(df[cat_cols].describe().T)"
   ]
  },
  {
   "cell_type": "code",
   "execution_count": null,
   "id": "1921e3b2",
   "metadata": {},
   "outputs": [],
   "source": [
    "import os\n",
    "os.listdir('eda_output') if os.path.exists('eda_output') else None"
   ]
  },
  {
   "cell_type": "code",
   "execution_count": null,
   "id": "28955289",
   "metadata": {},
   "outputs": [],
   "source": [
    "# Example plots: missing heatmap and correlation\n",
    "plt.figure(figsize=(10,3)); sns.heatmap(df.isnull().T, cbar=False); plt.title('Missing values heatmap'); plt.show()\n",
    "if num_cols:\n",
    "    plt.figure(figsize=(8,6)); sns.heatmap(df[num_cols].corr(), annot=True, fmt='.2f'); plt.title('Correlation'); plt.show()"
   ]
  }
 ],
 "metadata": {},
 "nbformat": 4,
 "nbformat_minor": 5
}
